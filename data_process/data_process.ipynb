{
 "cells": [
  {
   "cell_type": "code",
   "execution_count": null,
   "metadata": {},
   "outputs": [],
   "source": [
    "import os\n",
    "import cv2\n",
    "import json\n",
    "import pandas as pd"
   ]
  },
  {
   "cell_type": "code",
   "execution_count": 8,
   "metadata": {},
   "outputs": [],
   "source": [
    "img=cv2.imread(r\"C:\\Users\\OldCabbage\\projects\\YOLO\\yolov5\\data\\data_animal_org\\test\\images\\9_jpg.rf.eb8e232922688878a850763f2127e8fd.jpg\")"
   ]
  },
  {
   "cell_type": "code",
   "execution_count": 9,
   "metadata": {},
   "outputs": [],
   "source": [
    "cv2.imshow(\"img\",img)\n",
    "if cv2.waitKey(0) == ord('q'):\n",
    "    cv2.destroyAllWindows()"
   ]
  },
  {
   "cell_type": "code",
   "execution_count": 10,
   "metadata": {},
   "outputs": [],
   "source": [
    "img=cv2.rectangle(img,(78,15),(559+78,622+15),(0,0,255),2)\n",
    "cv2.imshow(\"img\",img)\n",
    "if cv2.waitKey(0) == ord('q'):\n",
    "    cv2.destroyAllWindows()"
   ]
  },
  {
   "cell_type": "code",
   "execution_count": 30,
   "metadata": {},
   "outputs": [],
   "source": [
    "img_folder=r\"C:\\Users\\OldCabbage\\projects\\YOLO\\yolov5\\data\\data_animal_set\\val\\images\"\n",
    "\n",
    "label_path=r\"C:\\Users\\OldCabbage\\projects\\YOLO\\yolov5\\data\\data_animal_org\\valid\\_annotations.coco.json\""
   ]
  },
  {
   "cell_type": "code",
   "execution_count": 31,
   "metadata": {},
   "outputs": [],
   "source": [
    "img_path_lst=os.listdir(img_folder)\n",
    "\n",
    "for img_name in img_path_lst:\n",
    "    with open(os.path.join(img_folder.replace(\"images\",\"labels\"),img_name.replace(\".jpg\",\".txt\")),'w') as f:\n",
    "        pass"
   ]
  },
  {
   "cell_type": "code",
   "execution_count": 32,
   "metadata": {},
   "outputs": [],
   "source": [
    "with open(label_path,'r') as f:\n",
    "    content = json.load(f)\n",
    "pass\n"
   ]
  },
  {
   "cell_type": "code",
   "execution_count": 33,
   "metadata": {},
   "outputs": [],
   "source": [
    "dict_id2img = dict()\n",
    "for img_info in content[\"images\"]:\n",
    "    dict_id2img[img_info['id']] = img_info[\"file_name\"]\n",
    "pass"
   ]
  },
  {
   "cell_type": "code",
   "execution_count": 34,
   "metadata": {},
   "outputs": [],
   "source": [
    "for label_info in content['annotations']:\n",
    "    img_name = dict_id2img[label_info['image_id']]\n",
    "    class_name = label_info['category_id']\n",
    "    x_center = (label_info['bbox'][0]+label_info['bbox'][2]/2)/640\n",
    "    y_center = (label_info['bbox'][1]+label_info['bbox'][3]/2)/640\n",
    "    w = label_info['bbox'][1]/640\n",
    "    h = label_info['bbox'][3]/640\n",
    "    with open(os.path.join(img_folder.replace(\"images\",\"labels\"),img_name.replace(\".jpg\",\".txt\")),'a') as f:\n",
    "        f.write(\"{} {} {} {} {}\\n\".format(class_name,x_center,y_center,w,h))"
   ]
  }
 ],
 "metadata": {
  "kernelspec": {
   "display_name": "yolov5",
   "language": "python",
   "name": "python3"
  },
  "language_info": {
   "codemirror_mode": {
    "name": "ipython",
    "version": 3
   },
   "file_extension": ".py",
   "mimetype": "text/x-python",
   "name": "python",
   "nbconvert_exporter": "python",
   "pygments_lexer": "ipython3",
   "version": "3.10.16"
  }
 },
 "nbformat": 4,
 "nbformat_minor": 2
}
